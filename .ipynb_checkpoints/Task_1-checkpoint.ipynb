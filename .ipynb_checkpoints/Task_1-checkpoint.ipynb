{
 "cells": [
  {
   "cell_type": "markdown",
   "id": "15491a88-3a0f-40bd-aa66-fee74a5daf82",
   "metadata": {},
   "source": [
    "# Kiedy czekamy na życie, życie przemija.\n",
    "## Seneka"
   ]
  },
  {
   "cell_type": "markdown",
   "id": "7503651a-b3c7-4581-a8f4-eb466e3c4974",
   "metadata": {},
   "source": [
    "## Wnioski\n",
    "###  Analiza sezonowości (miesiące)\n",
    "Najwyższe wypożyczenia: Miesiące letnie (5-9, czyli maj-wrzesień)\n",
    "- Lepsza pogoda (wyższe temperatury, dłuższe dni)\n",
    "- Więcej turystów i aktywności na świeżym powietrzu\n",
    "- Sezon wakacyjny (więcej osób korzysta z rowerów rekreacyjnie)\n",
    "\n",
    "Najniższe wypożyczenia: Miesiące zimowe (12-2, czyli grudzień-luty)\n",
    "- Niskie temperatury, opady, śnieg\n",
    "- Krótsze dni, mniejsza chęć do aktywności na zewnątrz\n",
    "\n",
    "### Wpływ pogody (weathersit)\n",
    "Najwięcej wypożyczeń:\n",
    "- Dni z pogodą \"clear\" (bezchmurne, brak opadów)\n",
    "\n",
    "Najmniej wypożyczeń:\n",
    "- Dni z opadami śniegu/deszczu lub burzami\n",
    "- Ludzie unikają jazdy rowerem w niekorzystnych warunkach pogodowych ze względu na bezpieczeństwo i komfort.\n",
    "\n",
    "### Dni robocze vs. weekendy (workingday)\n",
    "Weekendy (workingday=0):\n",
    "- Więcej wypożyczeń w celach rekreacyjnych\n",
    "\n",
    "Dni robocze (workingday=1):\n",
    "- Mniej wypożyczeń, ale stabilne (prawdopodobnie dojazdy do pracy/szkoły)\n",
    "\n",
    "W weekendy ludzie mają więcej czasu na aktywności rekreacyjne.\n",
    "\n",
    "### Święta (holiday)\n",
    "Dni świąteczne:\n",
    "- Nieco mniej wypożyczeń niż w typowe dni robocze\n",
    "- W święta wiele osób wyjeżdża lub spędza czas z rodziną, co redukuje liczbę codziennych użytkowników rowerów.\n",
    "\n",
    "### Dzień tygodnia (weekday)\n",
    "Najwięcej wypożyczeń:\n",
    "- Piątki i soboty (koniec tygodnia, początek weekendu)\n",
    "\n",
    "Najmniej wypożyczeń: Niedziele i poniedziałki\n",
    "- Piątki: Ludzie mogą korzystać z rowerów po pracy na krótkie wycieczki.\n",
    "- Soboty: Czas wolny, rekreacja.\n",
    "- Niedziele: Niektóre osoby mogą preferować inne formy wypoczynku.\n"
   ]
  },
  {
   "cell_type": "code",
   "execution_count": null,
   "id": "ce32dee3-5cd4-4cf5-b0b7-ada9dcba1c5b",
   "metadata": {},
   "outputs": [],
   "source": []
  }
 ],
 "metadata": {
  "kernelspec": {
   "display_name": "Python [conda env:base] *",
   "language": "python",
   "name": "conda-base-py"
  },
  "language_info": {
   "codemirror_mode": {
    "name": "ipython",
    "version": 3
   },
   "file_extension": ".py",
   "mimetype": "text/x-python",
   "name": "python",
   "nbconvert_exporter": "python",
   "pygments_lexer": "ipython3",
   "version": "3.12.3"
  }
 },
 "nbformat": 4,
 "nbformat_minor": 5
}
